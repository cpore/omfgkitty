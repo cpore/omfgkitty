{
 "cells": [
  {
   "cell_type": "code",
   "execution_count": 1,
   "metadata": {
    "collapsed": false
   },
   "outputs": [],
   "source": [
    "import numpy as np\n",
    "import mlutils as ml\n",
    "import neuralnetworksbylayer as nn\n",
    "import qdalda as ql\n",
    "import matplotlib.pyplot as plt\n",
    "%matplotlib inline\n",
    "import itertools\n",
    "import scipy.stats as ss\n",
    "from sklearn import svm, metrics, neighbors, tree"
   ]
  },
  {
   "cell_type": "markdown",
   "metadata": {},
   "source": [
    "# Final Project: A Comparison of Classifiers on Digitally Captured Handwritten Digits"
   ]
  },
  {
   "cell_type": "markdown",
   "metadata": {},
   "source": [
    "*Casey Pore*"
   ]
  },
  {
   "cell_type": "markdown",
   "metadata": {},
   "source": [
    "This project explores how different classifiers perform relative to each other on a data set. The data set used is a collection of digits that were hand written and captured via a digital interface. To classify the digits, we trained the data with a support vector machine, K-nearest neighbors, and decision tree algorithm. Results showed that support vector machines were superior, though all classifiers performed well."
   ]
  },
  {
   "cell_type": "markdown",
   "metadata": {},
   "source": [
    "## Introduction"
   ]
  },
  {
   "cell_type": "markdown",
   "metadata": {},
   "source": [
    "Classification of handwritten digits is a classic example of applied machine learning. Traditionally, a canonical database of handwritten digits provided by MNIST have been used as the basis for comparing machine learning methods and their results [1]. In this study, we depart from the traditional MNIST dataset to focus on a similar, but more modern problem. We will investigate how machine learning methods compare when using digially captured handwritten digits. We will investigate three methods that have been discussed in class, but we have not yet had an assignment for in order to get a better understanding of how they might be tuned and applied. The methods are support vector machines (SVM), K-nearest neighbors (KNN), and Decision Trees. All three of these methods have been used on the MNIST data set before, but as sales of tablets and smartphones have soared in recent years, we wish to understand how well these previously studied methods of will perform on modern data that is captured via a digital input interface. Data will be partitioned into training, testing, and validation sets from which we will train the classifiers that are used to predict the data. After training, the models will be used to predict digits on a unique test set to draw conclusions about how well each of the techniques performed relative to each other.\n",
    "\n",
    "[1] LeCun et al. \"The MNIST Database of Handwritten Digits\". [http://yann.lecun.com/exdb/mnist/]\n"
   ]
  },
  {
   "cell_type": "markdown",
   "metadata": {},
   "source": [
    "## Data"
   ]
  },
  {
   "cell_type": "markdown",
   "metadata": {},
   "source": [
    "For this study, we will be using the \"Pen-Based Recognition of Handwritten Digits Data Set\" available from the UCI Machine Learning Repository [2]. The Pen-Based data set is somewhat different from the MNIST data set that has been traditionally used for digit classification. The digits in the MNIST data set are represented as actual characters as they would appear to the human eye. The digits are 28x28 pixel grayscale images of handwritten digits 0-9 (and their corresponding output digit) that are used to train classifiers. In contrast, the Pen-Based data set is a vector of eight (x, y) coordinates that were sampled from a tablet, plus the correct output digit (0-9). The (x, y) coordinates are an integer value that represents a point on a 100x100 grid. The set of (x, y) coordinates represent a sampling of eight points captured over time as a user wrote a digit. The Pen-Based data set represents a different problem domain than the MNIST data set. That is, The Pen-Based data set can help us to identify a digit based on the stroke that a digital stylus takes when writing a certain digit. The MNIST data set is more useful for visual identification of digits. Our goal is to perform an investigation to see how SVM, KNN, and decistion trees perform on the Pen-Based data set.\n",
    "\n",
    "This data set has the convenient property that it has been partitioned into training and a testing data sets. The training data set (pendigits.tra) is comprised of 30 independent writers, from which 250 samples each were taken. The testing data set (pendigits.tes) is comprised of an additional 14 independent writers, and again, 250 samples. \n",
    "\n",
    "First, we will read in the training and testing data sets.\n",
    "\n",
    "\n",
    "[2] Lichman, M. (2013). UCI Machine Learning Repository [http://archive.ics.uci.edu/ml]. Irvine, CA: University of California, School of Information and Computer Science. [http://archive.ics.uci.edu/ml/datasets/Pen-Based+Recognition+of+Handwritten+Digits]"
   ]
  },
  {
   "cell_type": "code",
   "execution_count": 2,
   "metadata": {
    "collapsed": false
   },
   "outputs": [],
   "source": [
    "data = np.loadtxt('pendigits.tra', delimiter=',')\n",
    "Xtra = data[:,:-1]\n",
    "Ttra = data[:,-1:]\n",
    "\n",
    "data = np.loadtxt('pendigits.tes', delimiter=',')\n",
    "Xtes = data[:,:-1]\n",
    "Ttes = data[:,-1:]"
   ]
  },
  {
   "cell_type": "markdown",
   "metadata": {},
   "source": [
    "Below is an example of how a number '2' is represented in our data. If you were to connect the dots, you can see that visually it would resemble a '2'."
   ]
  },
  {
   "cell_type": "code",
   "execution_count": 3,
   "metadata": {
    "collapsed": false
   },
   "outputs": [
    {
     "name": "stdout",
     "output_type": "stream",
     "text": [
      "digit: 2.0\n"
     ]
    },
    {
     "data": {
      "image/png": "[encoded data removed]",
      "text/plain": [
       "<matplotlib.figure.Figure at 0x7f9f47b9fa58>"
      ]
     },
     "metadata": {},
     "output_type": "display_data"
    }
   ],
   "source": [
    "exampleDigit = Xtra[1,:].reshape((8,2))\n",
    "\n",
    "print('digit:', Ttra[1,0])\n",
    "\n",
    "plt.plot(*zip(*exampleDigit),'ro')\n",
    "plt.axis([0, 100, 0, 100])\n",
    "plt.grid()\n",
    "plt.show()"
   ]
  },
  {
   "cell_type": "markdown",
   "metadata": {},
   "source": [
    "## Methods\n",
    "\n",
    "The first step is to train the classifiers. All three classifiers  are trained in the same way. We have borrowed the `trainValidateTestKFolds` from the `mlutils` package supplied from class and then fixed some bugs, and modified it to suit the purpose of this project. The `trainValidateTestKFolds` is familiar by now. It partitions our training data into training, validation, and test sets and returns the best results for each fold. In addition, it has been modified to return the best model for each fold as well. The `trainValidateTestKFolds` function allows us to try differnt parameter sets for the various classifier methods. How these parameters affect training is discussed for each classifier. For each parameter, the classifer is trained for 10 folds.\n",
    "\n",
    "We have added the `getBestModel` function to extract the \"best\" model among the returned results. The \"best\" model is simply the model that achieved the highest correct predictions among all the test sets in the results. This best model is then used to predict digits for the pen digit test data to get a final evaluation of how well each classifer performs on previously unseen data."
   ]
  },
  {
   "cell_type": "code",
   "execution_count": 4,
   "metadata": {
    "collapsed": true
   },
   "outputs": [],
   "source": [
    "labels=[0,1,2,3,4,5,6,7,8,9]\n",
    "\n",
    "def _standardizeX(self,X):\n",
    "    # if self.Xmeans is not None:\n",
    "    #     result = (X - self.Xmeans) / self.XstdsFixed\n",
    "    #     result[:,self.Xconstant] = 0.0\n",
    "    # else:\n",
    "    #     result = X\n",
    "    # return result\n",
    "    return X\n",
    "\n",
    "def percentCorrect(predictedClasses, TrueClasses):\n",
    "    return np.sum(TrueClasses == predictedClasses) / float(TrueClasses.shape[0]) * 100\n",
    "\n",
    "def trainDT(X,T,parameters):\n",
    "    model = tree.DecisionTreeClassifier(max_features=parameters)\n",
    "    newT = T.ravel()\n",
    "    model.fit(X,newT)\n",
    "    return model\n",
    "\n",
    "def evaluateDT(model,X,T):\n",
    "    newT = T.ravel()\n",
    "    pctCorrect = percentCorrect(model.predict(X), newT)\n",
    "    return pctCorrect\n",
    "\n",
    "def trainSVM(X,T,parameters=1):\n",
    "    model = svm.SVC(C=parameters,gamma=0.0001)\n",
    "    newT = T.ravel()\n",
    "    model.fit(X,newT)\n",
    "    return model\n",
    "\n",
    "def evaluateSVM(model,X,T):\n",
    "    newT = T.ravel()\n",
    "    pctCorrect = percentCorrect(model.predict(X), newT)\n",
    "    return pctCorrect\n",
    "\n",
    "def trainKNN(X,T,parameters):\n",
    "    model = neighbors.KNeighborsClassifier(parameters)\n",
    "    newT = T.ravel()\n",
    "    model.fit(X,newT)\n",
    "    return model\n",
    "\n",
    "def evaluateKNN(model,X,T):\n",
    "    newT = T.ravel()\n",
    "    pctCorrect = percentCorrect(model.predict(X), newT)\n",
    "    return pctCorrect\n",
    "\n",
    "def rowsInFold(folds,k):\n",
    "    allRows = []\n",
    "    for c,rows in folds.items():\n",
    "        classRows, starts, stops = rows\n",
    "        allRows += classRows[starts[k]:stops[k]].tolist()\n",
    "    return allRows\n",
    "\n",
    "def rowsInFolds(folds,ks):\n",
    "    allRows = []\n",
    "    for k in ks:\n",
    "        allRows += rowsInFold(folds,k)\n",
    "    return allRows\n",
    "\n",
    "def trainValidateTestKFolds(trainf,evaluatef,X,T,parameterSets,nFolds,shuffle=False,verbose=False):\n",
    "    # Randomly arrange row indices\n",
    "    rowIndices = np.arange(X.shape[0])\n",
    "    if shuffle:\n",
    "        np.random.shuffle(rowIndices)\n",
    "    \n",
    "    betterFunc = max\n",
    "    folds = {}\n",
    "    classes = np.unique(T)\n",
    "    for c in classes:\n",
    "        classIndices = rowIndices[np.where(T[rowIndices,:] == c)[0]]\n",
    "        nInClass = len(classIndices)\n",
    "        nEach = int(nInClass / nFolds)\n",
    "        starts = np.arange(0,nEach*nFolds,nEach)\n",
    "        stops = starts + nEach\n",
    "        stops[-1] = nInClass\n",
    "        # startsStops = np.vstack((rowIndices[starts],rowIndices[stops])).T\n",
    "        folds[c] = [classIndices, starts, stops]\n",
    "            \n",
    "    # Repeat with testFold taking each single fold, one at a time\n",
    "    results = []\n",
    "    bestTestEvaluation = 0\n",
    "    bestModel = None\n",
    "    for testFold in range(nFolds):\n",
    "        # Leaving the testFold out, for each validate fold, train on remaining\n",
    "        # folds and evaluate on validate fold. Collect theseRepeat with validate\n",
    "        # Construct Xtest and Ttest\n",
    "        rows = rowsInFold(folds,testFold)\n",
    "        Xtest = X[rows,:]\n",
    "        Ttest = T[rows,:]\n",
    "\n",
    "        bestParms = None\n",
    "        bestValidationEvaluation = 0\n",
    "        for parms in parameterSets:\n",
    "            validateEvaluationSum = 0\n",
    "            \n",
    "            for validateFold in range(nFolds):\n",
    "                if testFold == validateFold:\n",
    "                    continue\n",
    "                # Construct Xtrain and Ttrain\n",
    "                trainFolds = np.setdiff1d(range(nFolds), [testFold,validateFold])\n",
    "                \n",
    "                rows = rowsInFolds(folds,trainFolds)\n",
    "                \n",
    "                Xtrain = X[rows,:]\n",
    "                Ttrain = T[rows,:]\n",
    "                # Construct Xvalidate and Tvalidate\n",
    "                rows = rowsInFold(folds,validateFold)\n",
    "\n",
    "                Xvalidate = X[rows,:]\n",
    "                Tvalidate = T[rows,:]\n",
    "\n",
    "                model = trainf(Xtrain,Ttrain,parms)\n",
    "                validateEvaluation = evaluatef(model,Xvalidate,Tvalidate)\n",
    "                validateEvaluationSum += validateEvaluation\n",
    "            validateEvaluation = validateEvaluationSum / (nFolds-1)\n",
    "            \n",
    "            if bestParms is None or validateEvaluation > bestValidationEvaluation: \n",
    "                bestParms = parms\n",
    "                bestValidationEvaluation = validateEvaluation\n",
    "                \n",
    "            if verbose:        \n",
    "                print(parms, validateEvaluation, bestValidationEvaluation)\n",
    "\n",
    "        newXtrain = np.vstack((Xtrain,Xvalidate))\n",
    "        newTtrain = np.vstack((Ttrain,Tvalidate))\n",
    "        model = trainf(newXtrain,newTtrain,bestParms)\n",
    "        trainEvaluation = evaluatef(model,newXtrain,newTtrain)\n",
    "        testEvaluation = evaluatef(model,Xtest,Ttest)\n",
    "\n",
    "        resultThisTestFold = [bestParms, trainEvaluation,\n",
    "                              bestValidationEvaluation, testEvaluation, model]\n",
    "        results.append(resultThisTestFold)\n",
    "        if verbose:\n",
    "            print(resultThisTestFold)\n",
    "    return results\n",
    "\n",
    "def getBestModel(results):\n",
    "    bestModel = None\n",
    "    bestTestEvaluation = 0\n",
    "    for result in results:\n",
    "        if result[3] > bestTestEvaluation:\n",
    "            bestModel = result[4]\n",
    "    return bestModel\n",
    "\n",
    "def plotConfusionMatrix(cm, title='Confusion matrix', cmap=plt.cm.Blues):\n",
    "    plt.imshow(cm, interpolation='nearest', cmap=cmap)\n",
    "    plt.title(title)\n",
    "    plt.colorbar()\n",
    "    tick_marks = np.arange(10)\n",
    "    plt.xticks(tick_marks, labels, rotation=45)\n",
    "    plt.yticks(tick_marks, labels)\n",
    "    plt.tight_layout()\n",
    "    plt.ylabel('True Value')\n",
    "    plt.xlabel('Predicted Value')"
   ]
  },
  {
   "cell_type": "markdown",
   "metadata": {},
   "source": [
    "#### Support Vector Machine\n",
    "\n",
    "First, we run the `trainValidateTestKFolds` using our SVM classifier. The SVM classifier (and all subsequent classifiers) is an \"off-the-shelf\" implementaion that is available from the scikit learn project [3]. The SVM implementation that we are using utilizes a radial (Gaussian) basis function for its kernel, as initial trials showed this performed the best. Our SVM has tuned the 'gamma' parameter to be 0.0001, again this is through trial and error. The gamma parameter is a value that affects how far a \"reach\" a single training example has on influencing predictions. The lower a value, the farther the \"reach\" and the greater the influence. We initally intended to try different combinations of 'C' and 'gamma' values, but found that varying 'gamma' did not influence the 'C' parameter and 0.0001 was optimal. And so finally, the value that we vary is the 'C' parameter. The 'C' parameter is simply how much leeway to allow when classifying the training data. A value of 1 means that all values are trained exactly as they are described (no leeway). For example a 1 and a 7 may look similar, but a high value of 'C' will never allow the data for these two digits to affect training. Though as you can see in the results below, a 'C' value of 1 was the best value the majority of the time and produced the model that correctly predicted the highest percentage of digits in the test sets. In general, this classifier was very successful at predicting digits from our training set as every fold obtained over 99 percent accuracy on the training partitions.\n",
    "\n",
    "[3] Scikit-learn: Machine Learning in Python, Pedregosa et al., JMLR 12, pp. 2825-2830, 2011."
   ]
  },
  {
   "cell_type": "code",
   "execution_count": 5,
   "metadata": {
    "collapsed": false
   },
   "outputs": [],
   "source": [
    "#This may take a while\n",
    "SVMParms = [1,.98,.95,.9,.8,.7]\n",
    "SVMResult = trainValidateTestKFolds(trainSVM,evaluateSVM,Xtra,Ttra,SVMParms,10)"
   ]
  },
  {
   "cell_type": "code",
   "execution_count": 6,
   "metadata": {
    "collapsed": false,
    "scrolled": false
   },
   "outputs": [
    {
     "name": "stdout",
     "output_type": "stream",
     "text": [
      "SVM Model\n",
      "C, train, validate, test\n",
      "0.8  \t\t    99.807   99.658   99.329\n",
      "1  \t\t    99.807   99.688   99.329\n",
      "1  \t\t    99.763   99.628   99.866\n",
      "1  \t\t    99.793   99.658   99.597\n",
      "0.98  \t\t    99.807   99.628   99.732\n",
      "1  \t\t    99.778   99.568   99.866\n",
      "1  \t\t    99.793   99.642   99.463\n",
      "1  \t\t    99.778   99.613   99.597\n",
      "1  \t\t    99.778   99.613   99.597\n",
      "1  \t\t    99.746   99.582   99.873\n",
      "Mean test percent correct:  99.6249096214\n"
     ]
    }
   ],
   "source": [
    "print('SVM Model\\nC, train, validate, test')\n",
    "err = 0\n",
    "for x in SVMResult:\n",
    "    err = err + x[3]\n",
    "    print('{:}  \\t\\t    {:.3f}   {:.3f}   {:.3f}'.format(*x))\n",
    "    \n",
    "print(\"Mean test percent correct: \", err/len(SVMResult))"
   ]
  },
  {
   "cell_type": "markdown",
   "metadata": {},
   "source": [
    "#### K-Nearest Neighbors\n",
    "\n",
    "This is a straight-forward classifier that only requires us to investigate one parameter - the K number of neighbors to query when classifying a digit. Though different values of K did produce excellent results, K=3 was the best choice 66 percent of the time and even managed to obtain a 100 percent test accuracy on one of the test partions in a fold. Like SVM, KNN showed great potential, with and average percent correct prediction rate of 99.42 percent. Not quite as good as SVM, but very close. "
   ]
  },
  {
   "cell_type": "code",
   "execution_count": 7,
   "metadata": {
    "collapsed": false,
    "scrolled": true
   },
   "outputs": [],
   "source": [
    "KNNParms = [1,2,3,4]\n",
    "KNNResult = trainValidateTestKFolds(trainKNN,evaluateKNN,Xtra,Ttra,KNNParms,10)"
   ]
  },
  {
   "cell_type": "code",
   "execution_count": 8,
   "metadata": {
    "collapsed": false,
    "scrolled": false
   },
   "outputs": [
    {
     "name": "stdout",
     "output_type": "stream",
     "text": [
      "K-Nearest Neighbor Model\n",
      "K, train, validate, test\n",
      "1  \t\t    100.000   99.404   99.329\n",
      "3  \t\t    99.733   99.508   98.926\n",
      "3  \t\t    99.763   99.374   99.732\n",
      "1  \t\t    100.000   99.389   99.463\n",
      "1  \t\t    100.000   99.360   99.463\n",
      "3  \t\t    99.748   99.493   99.195\n",
      "2  \t\t    99.733   99.478   98.926\n",
      "3  \t\t    99.674   99.389   99.597\n",
      "3  \t\t    99.689   99.464   99.597\n",
      "3  \t\t    99.657   99.374   100.000\n",
      "Mean test percent correct:  99.4228187919\n"
     ]
    }
   ],
   "source": [
    "print('K-Nearest Neighbor Model\\nK, train, validate, test')\n",
    "err = 0\n",
    "for x in KNNResult:\n",
    "    err = err + x[3]\n",
    "    print('{:}  \\t\\t    {:.3f}   {:.3f}   {:.3f}'.format(*x))\n",
    "\n",
    "print(\"Mean test percent correct: \", err/len(KNNResult))"
   ]
  },
  {
   "cell_type": "markdown",
   "metadata": {},
   "source": [
    "#### Decision Trees\n",
    "\n",
    "Our last classifier is the decision tree. The decision tree is built according to rules that are determined from the features of the digit data. For our parameter, we will be tuning the 'max_features' parameter. This parameter determines how many of the features should be included in the rule that determines which branch of the decision tree to take. So if there's 4 'max_features' then there could be up to 4 'if' statements that would need to be evaluated before descending into the next branch of the tree. This classifier is interesting in that it resulted in a wide range of parameters that perfomed the best for each fold. Ultimately though, max_features=16 performed the best. This is not surprising due to the nature of the data. Every point counts when determining the shape of a digit. This classifier performed well, but markedly worse than the previous two on the test partitions. The highest percent correct that this classifier was able to achieve was 97.315. So far is seems that SVM or KNN are better choices for classification, but it remains to be seen how well these three classifiers to on an independent batch of test data."
   ]
  },
  {
   "cell_type": "code",
   "execution_count": 9,
   "metadata": {
    "collapsed": false
   },
   "outputs": [],
   "source": [
    "DTParms = [1,2,3,4,5,6,7,8,9,10,11,12,13,14,15,16]\n",
    "DTResult = trainValidateTestKFolds(trainDT,evaluateDT,Xtra,Ttra,DTParms,10)"
   ]
  },
  {
   "cell_type": "code",
   "execution_count": 10,
   "metadata": {
    "collapsed": false,
    "scrolled": true
   },
   "outputs": [
    {
     "name": "stdout",
     "output_type": "stream",
     "text": [
      "Decision Tree Model\n",
      "max_features, train, validate, test\n",
      "16  \t\t    100.000   96.133   95.705\n",
      "15  \t\t    100.000   96.120   95.436\n",
      "16  \t\t    100.000   95.730   95.973\n",
      "16  \t\t    100.000   96.130   97.315\n",
      "16  \t\t    100.000   95.968   97.047\n",
      "15  \t\t    100.000   96.138   95.302\n",
      "14  \t\t    100.000   95.852   96.913\n",
      "16  \t\t    100.000   95.744   96.242\n",
      "16  \t\t    100.000   96.071   96.242\n",
      "10  \t\t    100.000   95.988   95.057\n",
      "Mean test percent correct:  96.1231530865\n"
     ]
    }
   ],
   "source": [
    "print('Decision Tree Model\\nmax_features, train, validate, test')\n",
    "err = 0\n",
    "for x in DTResult:\n",
    "    err = err + x[3]\n",
    "    print('{:}  \\t\\t    {:.3f}   {:.3f}   {:.3f}'.format(*x))\n",
    "\n",
    "print(\"Mean test percent correct: \", err/len(DTResult))"
   ]
  },
  {
   "cell_type": "markdown",
   "metadata": {},
   "source": [
    "## Results\n",
    "\n",
    "Now that the classifiers have been trained we apply them to an independent test data set to evaluate how well the classifiers perform on previously unseen data. For each classifier result from the training process, we pick the model that performed the best on the training partitions and apply that model to the independent test data. We then print out the confusion matrix in raw numbers, the percent correctly predicted, and a second version of the confusion matrix as a heat map.\n",
    "\n",
    "The way the results compare with each each other is consistent with how they did on the training data. That is, the best was SVM, then KNN, and last decision trees. For SVM is did impressively well, correctly classifying over 98 percent of the digits. It looks like it had a little of bit of trouble confusing 8 and 0, ad well as 1 and 7. This seems natural since these digits can look quite similar and can often be mistaken for each other by humans as well.  KNN also did well reaching almost 98 percent correct classification. It looks like it had the most trouble confusing 1 with 2. Perhaps there were many thinly drawn 2s in the data set, it is hard to say why there was confusion there. Finally, the decision tree did ok, but fared far worse than the previous two coming in at less than 92 percent. There were 35 instances where 1 was confused with 2 in this classifier as well. Since all the classifiers are having trouble with these two digits, I would conclude that there is something about the traing and testing sets that is off. Eitherr the ones in the training sets look like twos in the testing set, or the twos in the testing set look like ones in the training set. Regardless, the decision tree classifier performed the worst of the three."
   ]
  },
  {
   "cell_type": "code",
   "execution_count": 11,
   "metadata": {
    "collapsed": false
   },
   "outputs": [
    {
     "name": "stdout",
     "output_type": "stream",
     "text": [
      "Confusion matrix:\n",
      "[[352   0   0   0   0   0   0   0  11   0]\n",
      " [  0 353  10   0   1   0   0   0   0   0]\n",
      " [  0   1 363   0   0   0   0   0   0   0]\n",
      " [  0   1   0 333   0   0   0   0   0   2]\n",
      " [  0   0   0   0 357   4   2   0   0   1]\n",
      " [  0   0   0   5   0 328   0   0   0   2]\n",
      " [  0   0   0   0   0   0 335   0   1   0]\n",
      " [  0  10   0   0   0   0   0 350   0   4]\n",
      " [  0   0   0   0   0   1   0   0 335   0]\n",
      " [  0   2   0   0   0   0   0   3   1 330]]\n",
      "Percent Correct: 98.2275586049\n"
     ]
    },
    {
     "data": {
      "image/png": "[encoded data removed]",
      "text/plain": [
       "<matplotlib.figure.Figure at 0x7f9f472d49e8>"
      ]
     },
     "metadata": {},
     "output_type": "display_data"
    }
   ],
   "source": [
    "SVMmodel = getBestModel(SVMResult)\n",
    "SVMpredicted = SVMmodel.predict(Xtes)\n",
    "\n",
    "SVMcm = metrics.confusion_matrix(Ttes.ravel(),SVMpredicted)\n",
    "\n",
    "print(\"Confusion matrix:\\n%s\" % SVMcm)\n",
    "\n",
    "SVMpctCorrect = evaluateKNN(SVMmodel,Xtes,Ttes)\n",
    "print('Percent Correct:', SVMpctCorrect)\n",
    "\n",
    "plotConfusionMatrix(SVMcm)"
   ]
  },
  {
   "cell_type": "code",
   "execution_count": 12,
   "metadata": {
    "collapsed": false
   },
   "outputs": [
    {
     "name": "stdout",
     "output_type": "stream",
     "text": [
      "Confusion matrix:\n",
      "[[354   0   0   0   0   0   5   0   3   1]\n",
      " [  0 349  12   0   1   0   0   2   0   0]\n",
      " [  0   2 362   0   0   0   0   0   0   0]\n",
      " [  0   1   0 333   0   0   0   0   0   2]\n",
      " [  0   0   0   0 354  10   0   0   0   0]\n",
      " [  0   0   0   5   0 328   0   0   0   2]\n",
      " [  0   0   0   0   0   0 336   0   0   0]\n",
      " [  0   9   1   0   0   0   1 352   1   0]\n",
      " [  1   0   0   0   0   1   0   0 334   0]\n",
      " [  0   3   0   7   1   1   0   4   1 319]]\n",
      "Percent Correct: 97.7987421384\n"
     ]
    },
    {
     "data": {
      "image/png": "[encoded data removed]",
      "text/plain": [
       "<matplotlib.figure.Figure at 0x7f9f47267f60>"
      ]
     },
     "metadata": {},
     "output_type": "display_data"
    }
   ],
   "source": [
    "KNNmodel = getBestModel(KNNResult)\n",
    "KNNpredicted = KNNmodel.predict(Xtes)\n",
    "\n",
    "KNNcm = metrics.confusion_matrix(Ttes.ravel(), KNNpredicted, labels)\n",
    "\n",
    "print(\"Confusion matrix:\\n%s\" % KNNcm)\n",
    "\n",
    "KNNpctCorrect = evaluateKNN(KNNmodel,Xtes,Ttes)\n",
    "print('Percent Correct:', KNNpctCorrect)\n",
    "\n",
    "plotConfusionMatrix(KNNcm)"
   ]
  },
  {
   "cell_type": "code",
   "execution_count": 13,
   "metadata": {
    "collapsed": false
   },
   "outputs": [
    {
     "name": "stdout",
     "output_type": "stream",
     "text": [
      "Confusion matrix:\n",
      "[[335   0   3   0   1   0  11   0  13   0]\n",
      " [  0 321  37   0   0   1   2   1   0   2]\n",
      " [  0  12 345   3   0   0   2   2   0   0]\n",
      " [  0  12   2 309   0   2   4   6   0   1]\n",
      " [  0   7   0   0 347   4   0   0   0   6]\n",
      " [  0   2   0   9   3 286   1  15   2  17]\n",
      " [  1   1   4   2   0   1 324   1   2   0]\n",
      " [  0  28   2   6   0   1   4 315   2   6]\n",
      " [  5   0   0   0   0   3   2   5 321   0]\n",
      " [  0   6   0   6   2  23   0   6   0 293]]\n",
      "Percent Correct: 91.3664951401\n"
     ]
    },
    {
     "data": {
      "image/png": "[encoded data removed]",
      "text/plain": [
       "<matplotlib.figure.Figure at 0x7f9f471210b8>"
      ]
     },
     "metadata": {},
     "output_type": "display_data"
    }
   ],
   "source": [
    "DTmodel = getBestModel(DTResult)\n",
    "#if you want to see the decsion tree use this \n",
    "#tree.export_graphviz(DTmodel, out_file='dt.dot')\n",
    "\n",
    "#then render on a command line with (PNG format)\n",
    "#$ dot -Tpng tree.dot -o tree.png\n",
    "\n",
    "DTpredicted = DTmodel.predict(Xtes)\n",
    "\n",
    "DTcm = metrics.confusion_matrix(Ttes.ravel(), DTpredicted, labels)\n",
    "\n",
    "print(\"Confusion matrix:\\n%s\" % DTcm)\n",
    "\n",
    "DTpctCorrect = evaluateDT(DTmodel,Xtes,Ttes)\n",
    "print('Percent Correct:', DTpctCorrect)\n",
    "\n",
    "plotConfusionMatrix(DTcm)"
   ]
  },
  {
   "cell_type": "markdown",
   "metadata": {},
   "source": [
    "## Conclusion"
   ]
  },
  {
   "cell_type": "markdown",
   "metadata": {
    "collapsed": true
   },
   "source": [
    "The goal of this project was to utilize some of the classification techniques that were discussed in class so that we may investigate how they perform on a novel data set. The biggest surprise to me was how accurate these classifiers were at correctly classifying digits, especially the previously unseen test set. In a previous study using this data set by Alimoglu, they acheived an accuracy of 97.8 using K=3 with KNN. This project matched that using KNN with an accuracy of 97.79874 with very little parameter tuning. Even more impressively, we were able to best Alimoglu's results using SVM, acheiving an accuracy of 98.2. However, the decision tree classifier was overly complex. I suspect this led to overfitting the data, which led to its poorer accuracy. Overall this was an eye-opening exercise that will lead to a better understanding of how to tune and apply classifiers in the future. Have a great summer!\n",
    "\n",
    "\n",
    "[4] F. Alimoglu (1996) Combining Multiple Classifiers for Pen-Based Handwritten Digit Recognition, MSc Thesis, Institute of Graduate Studies in Science and Engineering, Bogazici University. "
   ]
  }
 ],
 "metadata": {
  "anaconda-cloud": {},
  "kernelspec": {
   "display_name": "Python [Root]",
   "language": "python",
   "name": "Python [Root]"
  },
  "language_info": {
   "codemirror_mode": {
    "name": "ipython",
    "version": 3
   },
   "file_extension": ".py",
   "mimetype": "text/x-python",
   "name": "python",
   "nbconvert_exporter": "python",
   "pygments_lexer": "ipython3",
   "version": "3.5.1"
  }
 },
 "nbformat": 4,
 "nbformat_minor": 0
}
